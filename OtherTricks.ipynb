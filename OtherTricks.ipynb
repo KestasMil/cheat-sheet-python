{
 "cells": [
  {
   "cell_type": "code",
   "execution_count": 3,
   "metadata": {},
   "outputs": [
    {
     "name": "stdout",
     "output_type": "stream",
     "text": [
      "Total time:  0.0\n"
     ]
    }
   ],
   "source": [
    "# Test execution time\n",
    "import time\n",
    "\n",
    "startTime = time.time()\n",
    "\n",
    "# write your code or functions calls\n",
    "\n",
    "endTime = time.time()\n",
    "totalTime = endTime - startTime\n",
    "print(\"Total time: \", totalTime)"
   ]
  },
  {
   "cell_type": "code",
   "execution_count": 6,
   "metadata": {},
   "outputs": [
    {
     "name": "stdout",
     "output_type": "stream",
     "text": [
      "size of list =  96\n",
      "size of name =  61\n"
     ]
    }
   ],
   "source": [
    "# Size of object in bytes\n",
    "import sys\n",
    "\n",
    "list1 = ['Scott', 'Eric', 'Kelly', 'Emma', 'Smith']\n",
    "print(\"size of list = \",sys.getsizeof(list1))\n",
    "\n",
    "name = 'pynative.com'\n",
    "print(\"size of name = \",sys.getsizeof(name))"
   ]
  },
  {
   "cell_type": "code",
   "execution_count": 12,
   "metadata": {},
   "outputs": [
    {
     "name": "stdout",
     "output_type": "stream",
     "text": [
      "[5, 4, 3, 2, 1]\n",
      "[1, 9, 3, 4, 5] [5, 4, 3, 2, 1]\n"
     ]
    }
   ],
   "source": [
    "# Reverse any itterable (object with itterator protocol (__len__() and __getitem__()) or class that implements method __reversed__())\n",
    "d = [1,2,3,4,5]\n",
    "c = list(reversed(d))\n",
    "print(c)\n",
    "d[1] = 9;\n",
    "print (d,c)"
   ]
  },
  {
   "cell_type": "code",
   "execution_count": 20,
   "metadata": {},
   "outputs": [
    {
     "name": "stdout",
     "output_type": "stream",
     "text": [
      "[0, 1, 2, 3, 4, 5, 6, 7, 8, 9]\n",
      "[5, 6, 7, 8, 9]\n",
      "[0, 2, 4, 6, 8]\n"
     ]
    }
   ],
   "source": [
    "# Generating range of numbers\n",
    "print(list(range(10))) # starting from 0\n",
    "print(list(range(5,10))) # a range\n",
    "print(list(range(0,10,2))) # a range with step"
   ]
  },
  {
   "cell_type": "code",
   "execution_count": 38,
   "metadata": {},
   "outputs": [
    {
     "name": "stdout",
     "output_type": "stream",
     "text": [
      "Hext to int 4062\n",
      "Bin to int 5\n",
      "String to int 34\n"
     ]
    }
   ],
   "source": [
    "# Convert hex/bin/string int to decimal value\n",
    "hexNumber = \"0xfde\"\n",
    "binNumber = \"00101\"\n",
    "stringNumber=\"34\"\n",
    "\n",
    "print(\"Hext to int\", int(hexNumber, 0))\n",
    "print(\"Bin to int\", int(binNumber, 2))\n",
    "print(\"String to int\", int(stringNumber, 0))"
   ]
  },
  {
   "cell_type": "code",
   "execution_count": 92,
   "metadata": {},
   "outputs": [
    {
     "name": "stdout",
     "output_type": "stream",
     "text": [
      "Short: 88.23 full: 88.2345 whole: 88 Test: Test\n",
      "88.23\n"
     ]
    }
   ],
   "source": [
    "# Number formatting\n",
    "number= 88.2345\n",
    "\n",
    "print('Short: {0:.2f} full: {0:.4f} whole: {0:.0f} Test: {1}'.format(number, 'Test'))\n",
    "print(f'{number:.2f}')\n"
   ]
  },
  {
   "cell_type": "code",
   "execution_count": 94,
   "metadata": {},
   "outputs": [
    {
     "name": "stdout",
     "output_type": "stream",
     "text": [
      "10011101\n"
     ]
    }
   ],
   "source": [
    "# Number to binary\n",
    "print(f'{157:b}')"
   ]
  },
  {
   "cell_type": "code",
   "execution_count": 103,
   "metadata": {},
   "outputs": [
    {
     "name": "stdout",
     "output_type": "stream",
     "text": [
      "Product 200 Division 2.0\n",
      "orTuple: (1012, 1.9130434782608696)\n"
     ]
    }
   ],
   "source": [
    "def multiplication_Division(num1, num2):\n",
    "  return num1*num2, num2/num1\n",
    "\n",
    "product, division = multiplication_Division(10, 20)\n",
    "print(\"Product\", product, \"Division\", division)\n",
    "\n",
    "orTuple = multiplication_Division(23,44)\n",
    "print(\"orTuple:\", orTuple)\n"
   ]
  }
 ],
 "metadata": {
  "interpreter": {
   "hash": "7dd511510a73f8c80231f11a5416f90a9cd1cf9fde1b091cc019c5663266d2c3"
  },
  "kernelspec": {
   "display_name": "Python 3.10.5 64-bit",
   "language": "python",
   "name": "python3"
  },
  "language_info": {
   "codemirror_mode": {
    "name": "ipython",
    "version": 3
   },
   "file_extension": ".py",
   "mimetype": "text/x-python",
   "name": "python",
   "nbconvert_exporter": "python",
   "pygments_lexer": "ipython3",
   "version": "3.10.5"
  },
  "orig_nbformat": 4
 },
 "nbformat": 4,
 "nbformat_minor": 2
}
