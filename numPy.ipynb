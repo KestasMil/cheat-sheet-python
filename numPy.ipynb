{
 "cells": [
  {
   "cell_type": "code",
   "execution_count": 1,
   "metadata": {},
   "outputs": [
    {
     "name": "stdout",
     "output_type": "stream",
     "text": [
      "[[1 2]\n",
      " [3 4]\n",
      " [4 6]\n",
      " [7 8]]\n"
     ]
    }
   ],
   "source": [
    "import numpy\n",
    "\n",
    "arraySample = numpy.array([[1, 2], [3, 4], [4, 6], [7, 8]])\n",
    "\n",
    "print (arraySample)"
   ]
  }
 ],
 "metadata": {
  "interpreter": {
   "hash": "3b8ba16648f378650f6bf8c52d6faba5fa439784578711c046a8b0dc247130e9"
  },
  "kernelspec": {
   "display_name": "Python 3.10.5 64-bit (windows store)",
   "language": "python",
   "name": "python3"
  },
  "language_info": {
   "codemirror_mode": {
    "name": "ipython",
    "version": 3
   },
   "file_extension": ".py",
   "mimetype": "text/x-python",
   "name": "python",
   "nbconvert_exporter": "python",
   "pygments_lexer": "ipython3",
   "version": "3.10.5"
  },
  "orig_nbformat": 4
 },
 "nbformat": 4,
 "nbformat_minor": 2
}
