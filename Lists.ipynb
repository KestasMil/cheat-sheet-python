{
 "cells": [
  {
   "cell_type": "code",
   "execution_count": 31,
   "metadata": {},
   "outputs": [
    {
     "data": {
      "text/plain": [
       "['a', 'c', True]"
      ]
     },
     "execution_count": 31,
     "metadata": {},
     "output_type": "execute_result"
    }
   ],
   "source": [
    "# Delete value from list\n",
    "val = ['a', 'b', 'c', True]\n",
    "del val[1]\n",
    "val"
   ]
  },
  {
   "cell_type": "code",
   "execution_count": 32,
   "metadata": {},
   "outputs": [
    {
     "name": "stdout",
     "output_type": "stream",
     "text": [
      "['Smith', 'Emma', 'Dave']\n"
     ]
    }
   ],
   "source": [
    "# Symetric difference (only unique values that are not present in both lists)\n",
    "list1 = ['Scott', 'Eric', 'Kelly', 'Emma', 'Smith', 'Smith']\n",
    "list2 = ['Scott', 'Eric', 'Kelly', 'Kelly', 'Dave']\n",
    "\n",
    "set1 = set(list1)\n",
    "set2 = set(list2)\n",
    "\n",
    "list3 = list(set1.symmetric_difference(set2))\n",
    "print(list3)"
   ]
  },
  {
   "cell_type": "code",
   "execution_count": 33,
   "metadata": {},
   "outputs": [
    {
     "name": "stdout",
     "output_type": "stream",
     "text": [
      "Original=  [20, 22, 24, 26, 28, 28, 20, 30, 24]\n",
      "After removing duplicate=  [20, 22, 24, 26, 28, 30]\n"
     ]
    }
   ],
   "source": [
    "# Removing duplicates from a list\n",
    "listNumbers = [20, 22, 24, 26, 28, 28, 20, 30, 24]\n",
    "print(\"Original= \", listNumbers)\n",
    "\n",
    "listNumbers = list(set(listNumbers))\n",
    "print(\"After removing duplicate= \", listNumbers)"
   ]
  },
  {
   "cell_type": "code",
   "execution_count": 34,
   "metadata": {},
   "outputs": [
    {
     "name": "stdout",
     "output_type": "stream",
     "text": [
      "is two list are b equal True\n"
     ]
    }
   ],
   "source": [
    "# Check if two lists are equal even if order is not the same\n",
    "from collections import Counter\n",
    "\n",
    "one = [33, 22, 11, 44, 55]\n",
    "two = [22, 11, 44, 55, 33]\n",
    "\n",
    "print(\"is two list are b equal\", Counter(one) == Counter(two))"
   ]
  },
  {
   "cell_type": "code",
   "execution_count": 35,
   "metadata": {},
   "outputs": [
    {
     "name": "stdout",
     "output_type": "stream",
     "text": [
      "All List elemtnts are Unique  True\n",
      "All List elemtnts are Unique  False\n"
     ]
    }
   ],
   "source": [
    "# Elements in a list are unique\n",
    "def isUnique(item):\n",
    "    tempSet = set()\n",
    "    return not any(i in tempSet or tempSet.add(i) for i in item)\n",
    "\n",
    "listOne = [123, 345, 456, 23, 567]\n",
    "print(\"All List elemtnts are Unique \", isUnique(listOne))\n",
    "\n",
    "listTwo = [123, 345, 567, 23, 567]\n",
    "print(\"All List elemtnts are Unique \", isUnique(listTwo))"
   ]
  },
  {
   "cell_type": "code",
   "execution_count": 58,
   "metadata": {},
   "outputs": [
    {
     "name": "stdout",
     "output_type": "stream",
     "text": [
      "<enumerate object at 0x000001AE5EDEB140>\n",
      "(0, 'a')\n"
     ]
    }
   ],
   "source": [
    "# Enumarate list with index value\n",
    "a = ['a','b','c','d','e','f','g','h','i','j']\n",
    "b = enumerate(a)\n",
    "\n",
    "print(b)\n",
    "print(next(b))"
   ]
  },
  {
   "cell_type": "code",
   "execution_count": 66,
   "metadata": {},
   "outputs": [
    {
     "name": "stdout",
     "output_type": "stream",
     "text": [
      "{54: 'Hard Disk', 65: 'Laptop', 76: 'RAM'}\n"
     ]
    }
   ],
   "source": [
    "# Two Lists to dictionary\n",
    "ItemId = [54, 65, 76]\n",
    "names = [\"Hard Disk\", \"Laptop\", \"RAM\"]\n",
    "\n",
    "\n",
    "\n",
    "itemDictionary = dict(zip(ItemId, names))\n",
    "\n",
    "print(itemDictionary)"
   ]
  }
 ],
 "metadata": {
  "interpreter": {
   "hash": "7dd511510a73f8c80231f11a5416f90a9cd1cf9fde1b091cc019c5663266d2c3"
  },
  "kernelspec": {
   "display_name": "Python 3.10.5 64-bit",
   "language": "python",
   "name": "python3"
  },
  "language_info": {
   "codemirror_mode": {
    "name": "ipython",
    "version": 3
   },
   "file_extension": ".py",
   "mimetype": "text/x-python",
   "name": "python",
   "nbconvert_exporter": "python",
   "pygments_lexer": "ipython3",
   "version": "3.10.5"
  },
  "orig_nbformat": 4
 },
 "nbformat": 4,
 "nbformat_minor": 2
}
