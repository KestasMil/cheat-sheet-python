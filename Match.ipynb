{
 "cells": [
  {
   "cell_type": "code",
   "execution_count": 2,
   "metadata": {},
   "outputs": [
    {
     "name": "stdout",
     "output_type": "stream",
     "text": [
      "2\n",
      "default\n"
     ]
    }
   ],
   "source": [
    "x = 10\n",
    "\n",
    "match x:\n",
    "    case 1:\n",
    "        print('1')\n",
    "    case 10:\n",
    "        print('2')\n",
    "    case _:\n",
    "        print('default')\n",
    "        \n",
    "\n",
    "match x:\n",
    "    case 2:\n",
    "        print('1')\n",
    "    case 3:\n",
    "        print('2')\n",
    "    case _:\n",
    "        print('default')"
   ]
  }
 ],
 "metadata": {
  "interpreter": {
   "hash": "3b8ba16648f378650f6bf8c52d6faba5fa439784578711c046a8b0dc247130e9"
  },
  "kernelspec": {
   "display_name": "Python 3.10.5 64-bit (windows store)",
   "language": "python",
   "name": "python3"
  },
  "language_info": {
   "codemirror_mode": {
    "name": "ipython",
    "version": 3
   },
   "file_extension": ".py",
   "mimetype": "text/x-python",
   "name": "python",
   "nbconvert_exporter": "python",
   "pygments_lexer": "ipython3",
   "version": "3.10.5"
  },
  "orig_nbformat": 4
 },
 "nbformat": 4,
 "nbformat_minor": 2
}
