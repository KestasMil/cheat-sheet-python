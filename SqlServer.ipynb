{
 "cells": [
  {
   "cell_type": "code",
   "execution_count": null,
   "metadata": {},
   "outputs": [],
   "source": [
    "# Using cursor via pyodbc lib\n",
    "import pyodbc\n",
    "\n",
    "conn = pyodbc.connect('Driver={SQL Server};'\n",
    "                      'Server=localhost;'\n",
    "                      'Database=LTU;'\n",
    "                      'UID=LocalUser;'\n",
    "                      'PWD=Ddfaz123$;')\n",
    "\n",
    "cursor = conn.cursor()\n",
    "cursor.execute('SELECT TOP(10) * FROM ScrapedWebPages')\n",
    "\n",
    "for i in cursor:\n",
    "    print(i)\n"
   ]
  },
  {
   "cell_type": "code",
   "execution_count": 8,
   "metadata": {},
   "outputs": [
    {
     "name": "stdout",
     "output_type": "stream",
     "text": [
      "   Id                                                Url  \\\n",
      "0   1                        https://www.bernardinai.lt/   \n",
      "1   2                         https://www.bernardinai.lt   \n",
      "2   3         https://www.bernardinai.lt/diena-su-dievu/   \n",
      "3   4            https://www.bernardinai.lt/multimedija/   \n",
      "4   5                 https://www.bernardinai.lt/ciklai/   \n",
      "5   6  https://www.bernardinai.lt/lk-9-51-62-jezus-ry...   \n",
      "6   7  https://www.bernardinai.lt/kasdienybes-sventas...   \n",
      "7   8  https://www.bernardinai.lt/sekmadienio-meditac...   \n",
      "8   9  https://www.bernardinai.lt/dailininko-studijoj...   \n",
      "9  10  https://www.bernardinai.lt/sekimo-kristumi-iss...   \n",
      "\n",
      "                                             Content  \\\n",
      "0  <html><body><header><div><div><div><nav><ul><l...   \n",
      "1  <html><body><header><div><div><div><nav><ul><l...   \n",
      "2  <html><body><header><div><div><div><nav><ul><l...   \n",
      "3  <html><body><header><div><div><div><nav><ul><l...   \n",
      "4  <html><body><header><div><div><div><nav><ul><l...   \n",
      "5  <html><body><header><div><div><div><nav><ul><l...   \n",
      "6  <html><body><header><div><div><div><nav><ul><l...   \n",
      "7  <html><body><header><div><div><div><nav><ul><l...   \n",
      "8  <html><body><header><div><div><div><nav><ul><l...   \n",
      "9  <html><body><header><div><div><div><nav><ul><l...   \n",
      "\n",
      "                   DateCreated  IsCleaned  \n",
      "0  0001-01-01 00:00:00.0000000       True  \n",
      "1  0001-01-01 00:00:00.0000000       True  \n",
      "2  0001-01-01 00:00:00.0000000       True  \n",
      "3  0001-01-01 00:00:00.0000000       True  \n",
      "4  0001-01-01 00:00:00.0000000       True  \n",
      "5  0001-01-01 00:00:00.0000000       True  \n",
      "6  0001-01-01 00:00:00.0000000       True  \n",
      "7  0001-01-01 00:00:00.0000000       True  \n",
      "8  0001-01-01 00:00:00.0000000       True  \n",
      "9  0001-01-01 00:00:00.0000000       True  \n",
      "<class 'pandas.core.frame.DataFrame'>\n"
     ]
    },
    {
     "name": "stderr",
     "output_type": "stream",
     "text": [
      "C:\\Users\\kestu\\AppData\\Local\\Packages\\PythonSoftwareFoundation.Python.3.10_qbz5n2kfra8p0\\LocalCache\\local-packages\\Python310\\site-packages\\pandas\\io\\sql.py:761: UserWarning: pandas only support SQLAlchemy connectable(engine/connection) ordatabase string URI or sqlite3 DBAPI2 connectionother DBAPI2 objects are not tested, please consider using SQLAlchemy\n",
      "  warnings.warn(\n"
     ]
    }
   ],
   "source": [
    "# via pandas + pyodbc\n",
    "import pandas as pd\n",
    "import pyodbc\n",
    "\n",
    "conn = pyodbc.connect('Driver={SQL Server};'\n",
    "                      'Server=localhost;'\n",
    "                      'Database=LTU;'\n",
    "                      'UID=LocalUser;'\n",
    "                      'PWD=Ddfaz123$;')\n",
    "\n",
    "df = pd.read_sql_query('SELECT TOP(10) * FROM ScrapedWebPages', conn)\n",
    "\n",
    "print(df)\n",
    "print(type(df))"
   ]
  }
 ],
 "metadata": {
  "interpreter": {
   "hash": "3b8ba16648f378650f6bf8c52d6faba5fa439784578711c046a8b0dc247130e9"
  },
  "kernelspec": {
   "display_name": "Python 3.10.5 64-bit (windows store)",
   "language": "python",
   "name": "python3"
  },
  "language_info": {
   "codemirror_mode": {
    "name": "ipython",
    "version": 3
   },
   "file_extension": ".py",
   "mimetype": "text/x-python",
   "name": "python",
   "nbconvert_exporter": "python",
   "pygments_lexer": "ipython3",
   "version": "3.10.5"
  },
  "orig_nbformat": 4
 },
 "nbformat": 4,
 "nbformat_minor": 2
}
