{
 "cells": [
  {
   "cell_type": "code",
   "execution_count": 19,
   "metadata": {},
   "outputs": [],
   "source": [
    "dictVar = {\n",
    "    'a': 1, 'b': 2, 'c': 3, 'd': 4\n",
    "}\n"
   ]
  },
  {
   "cell_type": "code",
   "execution_count": 20,
   "metadata": {},
   "outputs": [
    {
     "name": "stdout",
     "output_type": "stream",
     "text": [
      "a 1\n",
      "b 2\n",
      "c 3\n",
      "d 4\n"
     ]
    }
   ],
   "source": [
    "\n",
    "# itterate each entry (key, value)\n",
    "for a,b in dictVar.items():\n",
    "    print(a,b)\n"
   ]
  },
  {
   "cell_type": "code",
   "execution_count": 21,
   "metadata": {},
   "outputs": [
    {
     "name": "stdout",
     "output_type": "stream",
     "text": [
      "[('a', 1), ('b', 2), ('c', 3), ('d', 4)]\n",
      "['a', 'b', 'c', 'd']\n"
     ]
    }
   ],
   "source": [
    "\n",
    "# convert dictionary to list of tuples\n",
    "print(list(dictVar.items()))\n",
    "\n",
    "# convert dictionary to list of keys\n",
    "print(list(dictVar))"
   ]
  },
  {
   "cell_type": "code",
   "execution_count": 29,
   "metadata": {},
   "outputs": [
    {
     "data": {
      "text/plain": [
       "{'b': 2, 'c': 3, 'd': 4}"
      ]
     },
     "execution_count": 29,
     "metadata": {},
     "output_type": "execute_result"
    }
   ],
   "source": [
    "# Delete value from dictionary\n",
    "dictVar = {\n",
    "    'a': 1, 'b': 2, 'c': 3, 'd': 4\n",
    "}\n",
    "\n",
    "del dictVar['a']\n",
    "dictVar"
   ]
  },
  {
   "cell_type": "code",
   "execution_count": 1,
   "metadata": {},
   "outputs": [
    {
     "name": "stdout",
     "output_type": "stream",
     "text": [
      "{1: 'Scott', 2: 'Eric', 3: 'Kelly', 4: 'Emma'}\n",
      "{1: 'Scott', 2: 'Eric', 3: 'Kelly'}\n"
     ]
    }
   ],
   "source": [
    "currentEmployee = {1: 'Scott', 2: \"Eric\", 3:\"Kelly\"}\n",
    "formerEmployee  = {2: 'Eric', 4: \"Emma\"}\n",
    "\n",
    "allEmployee = {**currentEmployee, **formerEmployee}\n",
    "print(allEmployee)\n",
    "\n",
    "a = {**currentEmployee}\n",
    "print(a)"
   ]
  }
 ],
 "metadata": {
  "interpreter": {
   "hash": "7dd511510a73f8c80231f11a5416f90a9cd1cf9fde1b091cc019c5663266d2c3"
  },
  "kernelspec": {
   "display_name": "Python 3.10.5 64-bit",
   "language": "python",
   "name": "python3"
  },
  "language_info": {
   "codemirror_mode": {
    "name": "ipython",
    "version": 3
   },
   "file_extension": ".py",
   "mimetype": "text/x-python",
   "name": "python",
   "nbconvert_exporter": "python",
   "pygments_lexer": "ipython3",
   "version": "3.10.5"
  },
  "orig_nbformat": 4
 },
 "nbformat": 4,
 "nbformat_minor": 2
}
