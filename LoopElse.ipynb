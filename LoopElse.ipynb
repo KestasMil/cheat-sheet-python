{
 "cells": [
  {
   "cell_type": "code",
   "execution_count": 5,
   "metadata": {},
   "outputs": [
    {
     "name": "stdout",
     "output_type": "stream",
     "text": [
      "4\n",
      "7\n",
      "8\n",
      "4\n",
      "6\n",
      "7\n",
      "Loop ended successfuly\n",
      "4\n",
      "7\n",
      "8\n"
     ]
    }
   ],
   "source": [
    "# For/Else - executes else only if no break or no exception was rised (executes only on itterable exaustion).\n",
    "data = [4,7,8,4,6,7]\n",
    "\n",
    "for i in data:\n",
    "    print(i)\n",
    "else:\n",
    "    print('Loop ended successfuly')\n",
    "    \n",
    "for i in data:\n",
    "    print(i)\n",
    "    if i == 8:\n",
    "        break\n",
    "else:\n",
    "    print('Loop ended successfuly')"
   ]
  }
 ],
 "metadata": {
  "interpreter": {
   "hash": "3b8ba16648f378650f6bf8c52d6faba5fa439784578711c046a8b0dc247130e9"
  },
  "kernelspec": {
   "display_name": "Python 3.10.5 64-bit (windows store)",
   "language": "python",
   "name": "python3"
  },
  "language_info": {
   "codemirror_mode": {
    "name": "ipython",
    "version": 3
   },
   "file_extension": ".py",
   "mimetype": "text/x-python",
   "name": "python",
   "nbconvert_exporter": "python",
   "pygments_lexer": "ipython3",
   "version": "3.10.5"
  },
  "orig_nbformat": 4
 },
 "nbformat": 4,
 "nbformat_minor": 2
}
